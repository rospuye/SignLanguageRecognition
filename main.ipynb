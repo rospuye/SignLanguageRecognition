{
 "cells": [
  {
   "attachments": {},
   "cell_type": "markdown",
   "metadata": {},
   "source": [
    "## Project 1: American Sign Language Understanding\n",
    "A project for the course of Autonomous Learning at the University of Aveiro, 2022/2023. This project was developed by Diogo Monteiro (NMec 97606) and Isabel Rosário (NMec 93343). This approach attemps to build a neural network that understands American sign language.\n"
   ]
  },
  {
   "cell_type": "code",
   "execution_count": 1,
   "metadata": {},
   "outputs": [],
   "source": [
    "import numpy as np\n",
    "import pandas as pd\n",
    "import matplotlib.pyplot as plt"
   ]
  },
  {
   "attachments": {},
   "cell_type": "markdown",
   "metadata": {},
   "source": [
    "### Load Data"
   ]
  },
  {
   "cell_type": "code",
   "execution_count": 2,
   "metadata": {},
   "outputs": [
    {
     "name": "stdout",
     "output_type": "stream",
     "text": [
      "Number of images in dataset: 27455\n",
      "Shape of each image: (28, 28)\n"
     ]
    },
    {
     "data": {
      "text/plain": [
       "Text(0.5, 1.0, 'First image of the dataset')"
      ]
     },
     "execution_count": 2,
     "metadata": {},
     "output_type": "execute_result"
    },
    {
     "data": {
      "image/png": "[encoded data removed]",
      "text/plain": [
       "<Figure size 640x480 with 1 Axes>"
      ]
     },
     "metadata": {},
     "output_type": "display_data"
    }
   ],
   "source": [
    "data = pd.read_csv('data/sign_mnist_train.csv')\n",
    "\n",
    "# get number of images in the dataset (should be 27,455)\n",
    "num_images = data.shape[0]\n",
    "print('Number of images in dataset:', num_images)\n",
    "\n",
    "# single out and analyse first image\n",
    "first_image = data.iloc[0, 1:].values # get first image of the dataset\n",
    "first_image = first_image.reshape(28, 28).astype('uint8') # reshape it to a 28x28 matrix\n",
    "print('Shape of each image:', first_image.shape)\n",
    "\n",
    "# show first image\n",
    "plt.imshow(first_image, cmap='gray')\n",
    "plt.title('First image of the dataset')"
   ]
  },
  {
   "cell_type": "code",
   "execution_count": 3,
   "metadata": {},
   "outputs": [],
   "source": [
    "# normalize pixel information (0-255 to 0-1)\n",
    "data.iloc[:, 1:] = data.iloc[:, 1:] / 255\n",
    "X, y = data.iloc[:, 1:].values, data.iloc[:, 0].values"
   ]
  },
  {
   "attachments": {},
   "cell_type": "markdown",
   "metadata": {},
   "source": [
    "### Neural network code"
   ]
  },
  {
   "cell_type": "code",
   "execution_count": 6,
   "metadata": {},
   "outputs": [],
   "source": [
    "class Layer:\n",
    "\n",
    "    def __init__(self, numInputs, numNeurons):\n",
    "        # random initialization of weights\n",
    "        self.weights = 0.01 * np.random.randn(numInputs, numNeurons) # 0.01 to avoid exploding gradients\n",
    "        self.biases = np.zeros((1, numNeurons)) # biases are initialized to 0\n",
    "    \n",
    "    def forwardPass(self, inputs):\n",
    "        self.inputs = inputs\n",
    "        self.output = np.dot(inputs, self.weights) + self.biases # Z = XW + B\n",
    "\n",
    "    def backPropagation(self, lossDerivatives): # lossPartialDerivates = partial derivatives of loss function with respect to output of layer\n",
    "        # compute gradients (partial derivatives)\n",
    "        self.weightDerivatives = np.dot(self.inputs.T, lossDerivatives) # dL/dW = dL/dY * dY/dW\n",
    "        self.biasDerivatives = np.sum(lossDerivatives, axis=0, keepdims=True) # dL/dB = dL/dY * dY/dB\n",
    "        self.inputDerivatives = np.dot(lossDerivatives, self.weights.T) # dL/dX = dL/dY * dY/dX\n",
    "\n",
    "class Activation:\n",
    "    # activation functions: they are applied to the output of a layer in order to introduce non-linearity\n",
    "\n",
    "    def forwardPassReLU(self, inputs): # rectified linear unit\n",
    "        self.inputs = inputs\n",
    "        self.output = np.maximum(0, inputs)\n",
    "\n",
    "    def backPropagationReLU(self, lossDerivatives): # derivative of ReLU\n",
    "        self.inputDerivatives = lossDerivatives.copy()\n",
    "        self.inputDerivatives[self.inputs <= 0] = 0\n",
    "\n",
    "    def forwardPassSoftmax(self, inputs): # softmax activation: softmax(x) = exp(x) / sum(exp(x))\n",
    "        exponentials = np.exp(inputs - np.max(inputs, axis=1, keepdims=True))\n",
    "        probabilities = exponentials / np.sum(exponentials, axis=1, keepdims=True)\n",
    "        self.output = probabilities\n",
    "\n",
    "    def backPropagationSoftmax(self, lossDerivatives): # derivative of softmax\n",
    "        self.inputDerivatives = np.empty_like(lossDerivatives)\n",
    "        for index, (singleOutput, singleLossDerivatives) in enumerate(zip(self.output, lossDerivatives)): # iterate over samples\n",
    "            singleOutput = singleOutput.reshape(-1, 1) # reshape to column vector\n",
    "            jacobian = np.diagflat(singleOutput) - np.dot(singleOutput, singleOutput.T) # compute jacobian matrix\n",
    "            self.inputDerivatives[index] = np.dot(jacobian, singleLossDerivatives) # compute partial derivatives\n",
    "\n",
    "class Loss:\n",
    "    # categorical cross-entropy: it is used to evaluate the performance of a classification model by comparing the predicted output to the true output\n",
    "    # it is a kind of loss function: it measures how well the model is performing\n",
    "\n",
    "    def calculate(self, output, y): # compute loss\n",
    "        sampleLosses = self.forwardPass(output, y) # compute loss values for each sample\n",
    "        dataLoss = np.mean(sampleLosses) # compute mean loss\n",
    "        return dataLoss\n",
    "\n",
    "    def forwardPass(self, yPred, yTrue):\n",
    "        samples = len(yPred) # number of samples in a batch\n",
    "        yPredClipped = np.clip(yPred, 1e-7, 1 - 1e-7) # clip data to prevent division by 0\n",
    "        if len(yTrue.shape) == 1: # if labels are one-hot encoded\n",
    "            correctConfidences = yPredClipped[range(samples), yTrue] # get the confidence of the correct label\n",
    "        elif len(yTrue.shape) == 2: # if labels are integers\n",
    "            correctConfidences = np.sum(yPredClipped * yTrue, axis=1) # get the confidence of the correct label\n",
    "        negativeLogLikelihoods = -np.log(correctConfidences) # compute negative log likelihood\n",
    "        return negativeLogLikelihoods # return loss\n",
    "    \n",
    "    def backPropagation(self, lossDerivatives, yTrue):\n",
    "        samples = len(lossDerivatives) # number of samples\n",
    "        labels = len(lossDerivatives[0]) # number of labels\n",
    "        if len(yTrue.shape) == 1: # if labels are one-hot encoded\n",
    "            yTrue = np.eye(labels)[yTrue] # convert to integer labels\n",
    "        self.inputDerivatives = -yTrue / lossDerivatives # compute gradient\n",
    "        self.inputDerivatives = self.inputDerivatives / samples # normalize gradient\n",
    "\n",
    "class LossActivation:\n",
    "    # combined softmax activation and cross-entropy loss for faster backward step\n",
    "    # this is used for the last layer of the model only\n",
    "    # this makes the backward step faster because it is computed in a single step\n",
    "\n",
    "    def __init__(self):\n",
    "        self.activation = Activation()\n",
    "        self.loss = Loss()\n",
    "\n",
    "    def forwardPass(self, inputs, y_true):\n",
    "        self.activation.forwardPassSoftmax(inputs) # apply softmax activation\n",
    "        self.output = self.activation.output # store output of activation function\n",
    "        return self.loss.calculate(self.output, y_true) # return loss value\n",
    "\n",
    "    def backPropagation(self, lossDerivatives, yTrue):\n",
    "        samples = len(lossDerivatives) # number of samples\n",
    "        if len(yTrue.shape) == 2:\n",
    "            yTrue = np.argmax(yTrue, axis=1) # convert one-hot encoded labels to integers\n",
    "            # one-hot enconded labels mean are labels represented as a vector with a 1 in the position of the label and 0s in the other positions\n",
    "        self.inputDerivatives = lossDerivatives.copy() # copy gradient values\n",
    "        self.inputDerivatives[range(samples), yTrue] -= 1 # subtract 1 from the gradient of the correct label\n",
    "        self.inputDerivatives = self.inputDerivatives / samples # divide by the number of samples\n",
    "\n",
    "class Optimizer:\n",
    "    # stochastic gradient descent: it is used to update the weights of the model in order to minimize the loss function\n",
    "    # it is an optimization algorithm that is used to find the optimal set of weights for the model\n",
    "    # stochastic gradient descent works by updating the weights incrementally for each training sample\n",
    "    \n",
    "    def __init__(self, learningRate=1., decay=0., momentum=0.):\n",
    "        self.learningRate = learningRate # learning rate: it is a hyperparameter that controls how much to update the weights at the end of each batch\n",
    "        self.currentLearningRate = learningRate # current learning rate: it is used to update the learning rate over time\n",
    "        self.decay = decay # decay: it is a hyperparameter that controls how much the learning rate decreases over time\n",
    "        self.iter = 0 # iterations: it is used to keep track of the number of iterations performed\n",
    "        self.momentum = momentum # momentum: it is a hyperparameter that controls how much to take the previous updates into account when performing the current update\n",
    "    \n",
    "    def beforeParameterUpdate(self):\n",
    "        if self.decay: # if decay is bigger than zero\n",
    "            self.currentLearningRate = self.learningRate * (1. / (1. + self.decay * self.iter)) # update the learning rate\n",
    "    \n",
    "    def updateParameters(self, layer):\n",
    "        if self.momentum: # if momentum is bigger than zero\n",
    "            if not hasattr(layer, 'weightMomentums'): # if the layer does not have weightMomentums attribute\n",
    "                layer.weightMomentums = np.zeros_like(layer.weights) # initialize weightMomentums with zeros\n",
    "                layer.biasMomentums = np.zeros_like(layer.biases) # initialize biasMomentums with zeros\n",
    "            weightUpdates = self.momentum * layer.weightMomentums - self.currentLearningRate * layer.weightDerivatives # compute weight updates\n",
    "            layer.weightMomentums = weightUpdates # store weight updates\n",
    "            biasUpdates = self.momentum * layer.biasMomentums - self.currentLearningRate * layer.biasDerivatives # compute bias updates\n",
    "            layer.biasMomentums = biasUpdates # store bias updates\n",
    "        else:\n",
    "            weightUpdates = -self.currentLearningRate * layer.weightDerivatives # compute weight updates\n",
    "            biasUpdates = -self.currentLearningRate * layer.biasDerivatives # compute bias updates\n",
    "        layer.weights += weightUpdates # update weights\n",
    "        layer.biases += biasUpdates # update biases\n",
    "\n",
    "    def afterParameterUpdate(self):\n",
    "        self.iter += 1 # increment iterations"
   ]
  },
  {
   "attachments": {},
   "cell_type": "markdown",
   "metadata": {},
   "source": [
    "### Training"
   ]
  },
  {
   "cell_type": "code",
   "execution_count": 8,
   "metadata": {},
   "outputs": [
    {
     "name": "stdout",
     "output_type": "stream",
     "text": [
      "epoch: 0, acc: 0.049, loss: 3.258, lr: 0.05\n",
      "epoch: 100, acc: 0.140, loss: 3.126, lr: 0.04999752512250644\n",
      "epoch: 200, acc: 0.205, loss: 2.935, lr: 0.04999502549496326\n",
      "epoch: 300, acc: 0.310, loss: 2.597, lr: 0.049992526117345455\n",
      "epoch: 400, acc: 0.370, loss: 2.273, lr: 0.04999002698961558\n",
      "epoch: 500, acc: 0.445, loss: 2.019, lr: 0.049987528111736124\n",
      "epoch: 600, acc: 0.500, loss: 1.824, lr: 0.049985029483669646\n",
      "epoch: 700, acc: 0.541, loss: 1.666, lr: 0.049982531105378675\n",
      "epoch: 800, acc: 0.573, loss: 1.535, lr: 0.04998003297682575\n",
      "epoch: 900, acc: 0.560, loss: 1.485, lr: 0.049977535097973466\n",
      "epoch: 1000, acc: 0.605, loss: 1.365, lr: 0.049975037468784345\n",
      "epoch: 1100, acc: 0.627, loss: 1.297, lr: 0.049972540089220974\n",
      "epoch: 1200, acc: 0.650, loss: 1.209, lr: 0.04997004295924593\n",
      "epoch: 1300, acc: 0.667, loss: 1.141, lr: 0.04996754607882181\n",
      "epoch: 1400, acc: 0.683, loss: 1.085, lr: 0.049965049447911185\n",
      "epoch: 1500, acc: 0.685, loss: 1.068, lr: 0.04996255306647668\n",
      "epoch: 1600, acc: 0.690, loss: 1.062, lr: 0.049960056934480884\n",
      "epoch: 1700, acc: 0.707, loss: 0.976, lr: 0.04995756105188642\n",
      "epoch: 1800, acc: 0.698, loss: 0.990, lr: 0.049955065418655915\n",
      "epoch: 1900, acc: 0.712, loss: 0.931, lr: 0.04995257003475201\n",
      "epoch: 2000, acc: 0.754, loss: 0.857, lr: 0.04995007490013731\n",
      "epoch: 2100, acc: 0.763, loss: 0.817, lr: 0.0499475800147745\n",
      "epoch: 2200, acc: 0.780, loss: 0.769, lr: 0.0499450853786262\n",
      "epoch: 2300, acc: 0.792, loss: 0.749, lr: 0.0499425909916551\n",
      "epoch: 2400, acc: 0.797, loss: 0.722, lr: 0.04994009685382384\n",
      "epoch: 2500, acc: 0.800, loss: 0.703, lr: 0.04993760296509512\n",
      "epoch: 2600, acc: 0.789, loss: 0.712, lr: 0.049935109325431604\n",
      "epoch: 2700, acc: 0.836, loss: 0.633, lr: 0.049932615934796004\n",
      "epoch: 2800, acc: 0.836, loss: 0.612, lr: 0.04993012279315098\n",
      "epoch: 2900, acc: 0.822, loss: 0.621, lr: 0.049927629900459285\n",
      "epoch: 3000, acc: 0.837, loss: 0.597, lr: 0.049925137256683606\n",
      "epoch: 3100, acc: 0.820, loss: 0.623, lr: 0.04992264486178666\n",
      "epoch: 3200, acc: 0.836, loss: 0.569, lr: 0.04992015271573119\n",
      "epoch: 3300, acc: 0.825, loss: 0.585, lr: 0.04991766081847992\n",
      "epoch: 3400, acc: 0.857, loss: 0.536, lr: 0.049915169169995596\n",
      "epoch: 3500, acc: 0.869, loss: 0.499, lr: 0.049912677770240964\n",
      "epoch: 3600, acc: 0.849, loss: 0.518, lr: 0.049910186619178794\n",
      "epoch: 3700, acc: 0.879, loss: 0.485, lr: 0.04990769571677183\n",
      "epoch: 3800, acc: 0.879, loss: 0.467, lr: 0.04990520506298287\n",
      "epoch: 3900, acc: 0.861, loss: 0.475, lr: 0.04990271465777467\n",
      "epoch: 4000, acc: 0.889, loss: 0.440, lr: 0.049900224501110035\n",
      "epoch: 4100, acc: 0.881, loss: 0.437, lr: 0.04989773459295174\n",
      "epoch: 4200, acc: 0.886, loss: 0.433, lr: 0.04989524493326262\n",
      "epoch: 4300, acc: 0.866, loss: 0.453, lr: 0.04989275552200545\n",
      "epoch: 4400, acc: 0.886, loss: 0.404, lr: 0.04989026635914307\n",
      "epoch: 4500, acc: 0.922, loss: 0.353, lr: 0.04988777744463829\n",
      "epoch: 4600, acc: 0.928, loss: 0.345, lr: 0.049885288778453954\n",
      "epoch: 4700, acc: 0.909, loss: 0.353, lr: 0.049882800360552884\n",
      "epoch: 4800, acc: 0.916, loss: 0.350, lr: 0.04988031219089794\n",
      "epoch: 4900, acc: 0.938, loss: 0.309, lr: 0.049877824269451976\n",
      "epoch: 5000, acc: 0.920, loss: 0.324, lr: 0.04987533659617785\n",
      "epoch: 5100, acc: 0.941, loss: 0.290, lr: 0.04987284917103844\n",
      "epoch: 5200, acc: 0.933, loss: 0.300, lr: 0.04987036199399661\n",
      "epoch: 5300, acc: 0.941, loss: 0.279, lr: 0.04986787506501525\n",
      "epoch: 5400, acc: 0.945, loss: 0.267, lr: 0.04986538838405724\n",
      "epoch: 5500, acc: 0.954, loss: 0.257, lr: 0.049862901951085496\n",
      "epoch: 5600, acc: 0.950, loss: 0.251, lr: 0.049860415766062906\n",
      "epoch: 5700, acc: 0.937, loss: 0.269, lr: 0.0498579298289524\n",
      "epoch: 5800, acc: 0.908, loss: 0.334, lr: 0.04985544413971689\n",
      "epoch: 5900, acc: 0.947, loss: 0.243, lr: 0.049852958698319315\n",
      "epoch: 6000, acc: 0.969, loss: 0.212, lr: 0.04985047350472258\n",
      "epoch: 6100, acc: 0.958, loss: 0.223, lr: 0.04984798855888967\n",
      "epoch: 6200, acc: 0.963, loss: 0.218, lr: 0.049845503860783506\n",
      "epoch: 6300, acc: 0.975, loss: 0.194, lr: 0.049843019410367055\n",
      "epoch: 6400, acc: 0.972, loss: 0.189, lr: 0.04984053520760327\n",
      "epoch: 6500, acc: 0.496, loss: 3.154, lr: 0.049838051252455155\n",
      "epoch: 6600, acc: 0.971, loss: 0.193, lr: 0.049835567544885655\n",
      "epoch: 6700, acc: 0.976, loss: 0.182, lr: 0.04983308408485778\n",
      "epoch: 6800, acc: 0.979, loss: 0.175, lr: 0.0498306008723345\n",
      "epoch: 6900, acc: 0.982, loss: 0.168, lr: 0.04982811790727884\n",
      "epoch: 7000, acc: 0.983, loss: 0.164, lr: 0.04982563518965381\n",
      "epoch: 7100, acc: 0.983, loss: 0.160, lr: 0.049823152719422406\n",
      "epoch: 7200, acc: 0.984, loss: 0.156, lr: 0.049820670496547675\n",
      "epoch: 7300, acc: 0.984, loss: 0.154, lr: 0.04981818852099264\n",
      "epoch: 7400, acc: 0.986, loss: 0.149, lr: 0.049815706792720335\n",
      "epoch: 7500, acc: 0.983, loss: 0.150, lr: 0.0498132253116938\n",
      "epoch: 7600, acc: 0.987, loss: 0.141, lr: 0.04981074407787611\n",
      "epoch: 7700, acc: 0.992, loss: 0.132, lr: 0.049808263091230306\n",
      "epoch: 7800, acc: 0.991, loss: 0.131, lr: 0.04980578235171948\n",
      "epoch: 7900, acc: 0.985, loss: 0.139, lr: 0.04980330185930667\n",
      "epoch: 8000, acc: 0.992, loss: 0.125, lr: 0.04980082161395499\n",
      "epoch: 8100, acc: 0.987, loss: 0.126, lr: 0.04979834161562752\n",
      "epoch: 8200, acc: 0.993, loss: 0.117, lr: 0.04979586186428736\n",
      "epoch: 8300, acc: 0.994, loss: 0.114, lr: 0.04979338235989761\n",
      "epoch: 8400, acc: 0.995, loss: 0.111, lr: 0.04979090310242139\n",
      "epoch: 8500, acc: 0.995, loss: 0.108, lr: 0.049788424091821805\n",
      "epoch: 8600, acc: 0.996, loss: 0.105, lr: 0.049785945328062006\n",
      "epoch: 8700, acc: 0.996, loss: 0.102, lr: 0.0497834668111051\n",
      "epoch: 8800, acc: 0.996, loss: 0.099, lr: 0.049780988540914256\n",
      "epoch: 8900, acc: 0.997, loss: 0.097, lr: 0.0497785105174526\n",
      "epoch: 9000, acc: 0.998, loss: 0.094, lr: 0.04977603274068329\n",
      "epoch: 9100, acc: 0.998, loss: 0.092, lr: 0.04977355521056952\n",
      "epoch: 9200, acc: 0.998, loss: 0.090, lr: 0.049771077927074414\n",
      "epoch: 9300, acc: 0.999, loss: 0.088, lr: 0.0497686008901612\n",
      "epoch: 9400, acc: 0.999, loss: 0.086, lr: 0.04976612409979302\n",
      "epoch: 9500, acc: 0.999, loss: 0.084, lr: 0.0497636475559331\n",
      "epoch: 9600, acc: 0.999, loss: 0.082, lr: 0.049761171258544616\n",
      "epoch: 9700, acc: 0.999, loss: 0.080, lr: 0.0497586952075908\n",
      "epoch: 9800, acc: 0.999, loss: 0.078, lr: 0.04975621940303483\n",
      "epoch: 9900, acc: 0.999, loss: 0.076, lr: 0.049753743844839965\n",
      "epoch: 10000, acc: 0.999, loss: 0.075, lr: 0.04975126853296942\n"
     ]
    }
   ],
   "source": [
    "num_features = X.shape[1]\n",
    "size_layer1 = 256\n",
    "size_layer2 = 26\n",
    "\n",
    "activation = Activation()\n",
    "layer1 = Layer(num_features, size_layer1)\n",
    "layer2 = Layer(size_layer1, size_layer2)\n",
    "loss_activation = LossActivation()\n",
    "optimizer = Optimizer(learningRate=0.05, decay=5e-7)\n",
    "\n",
    "for epoch in range(10001):\n",
    "    layer1.forwardPass(X)\n",
    "    activation.forwardPassReLU(layer1.output)\n",
    "\n",
    "    layer2.forwardPass(layer1.output)\n",
    "    loss = loss_activation.forwardPass(layer2.output, y)\n",
    "\n",
    "    predictions = np.argmax(loss_activation.output, axis=1)\n",
    "    if len(y.shape) == 2:\n",
    "        y = np.argmax(y, axis=1)\n",
    "    accuracy = np.mean(predictions == y)\n",
    "\n",
    "    if not epoch % 100:\n",
    "        print(f'epoch: {epoch}, ' + f'acc: {accuracy:.3f}, ' + f'loss: {loss:.3f}, ' + f'lr: {optimizer.currentLearningRate}')\n",
    "    \n",
    "    # backward pass\n",
    "    loss_activation.backPropagation(loss_activation.output, y)\n",
    "    layer2.backPropagation(loss_activation.inputDerivatives)\n",
    "    activation.backPropagationReLU(layer2.inputDerivatives)\n",
    "    layer1.backPropagation(layer2.inputDerivatives)\n",
    "\n",
    "    # update weights and biases\n",
    "    optimizer.beforeParameterUpdate()\n",
    "    optimizer.updateParameters(layer1)\n",
    "    optimizer.updateParameters(layer2)\n",
    "    optimizer.afterParameterUpdate()\n",
    "\n"
   ]
  },
  {
   "cell_type": "code",
   "execution_count": 12,
   "metadata": {},
   "outputs": [],
   "source": [
    "# save resulting weights and biases to file\n",
    "np.savez('model.npz', w1=layer1.weights, b1=layer1.biases, w2=layer2.weights, b2=layer2.biases)"
   ]
  },
  {
   "attachments": {},
   "cell_type": "markdown",
   "metadata": {},
   "source": [
    "### Testing"
   ]
  },
  {
   "cell_type": "code",
   "execution_count": 11,
   "metadata": {},
   "outputs": [
    {
     "name": "stdout",
     "output_type": "stream",
     "text": [
      "accuracy: 0.701\n"
     ]
    }
   ],
   "source": [
    "# read model from file\n",
    "model = np.load('model.npz')\n",
    "w1, b1, w2, b2 = model['w1'], model['b1'], model['w2'], model['b2']\n",
    "\n",
    "# load test data\n",
    "test = pd.read_csv('data/sign_mnist_test.csv')\n",
    "test.iloc[:, 1:] = test.iloc[:, 1:] / 255\n",
    "X_test, y_test = test.iloc[:, 1:].values, test.iloc[:, 0].values\n",
    "\n",
    "# make predictions for test data\n",
    "layer1.forwardPass(X_test)\n",
    "activation.forwardPassReLU(layer1.output)\n",
    "layer2.forwardPass(layer1.output)\n",
    "predictions = np.argmax(layer2.output, axis=1)\n",
    "\n",
    "# calculate accuracy\n",
    "accuracy = np.mean(predictions == y_test)\n",
    "print(f'accuracy: {accuracy:.3f}')\n"
   ]
  }
 ],
 "metadata": {
  "kernelspec": {
   "display_name": "Python 3",
   "language": "python",
   "name": "python3"
  },
  "language_info": {
   "codemirror_mode": {
    "name": "ipython",
    "version": 3
   },
   "file_extension": ".py",
   "mimetype": "text/x-python",
   "name": "python",
   "nbconvert_exporter": "python",
   "pygments_lexer": "ipython3",
   "version": "3.9.13"
  },
  "orig_nbformat": 4,
  "vscode": {
   "interpreter": {
    "hash": "a5a87ee616be0254e3f1af9223138e3faeac65b2c9d91bc22a9fc5a4a8bd8eb0"
   }
  }
 },
 "nbformat": 4,
 "nbformat_minor": 2
}
